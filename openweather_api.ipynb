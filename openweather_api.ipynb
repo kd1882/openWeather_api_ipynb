{
 "cells": [
  {
   "cell_type": "markdown",
   "id": "37b5ecbf",
   "metadata": {},
   "source": [
    "# What are we doing?\n",
    "Today we're going over how to 1. query data from an API endpoint 2. how to load the json payload into a pandas dataframe 3. inspect the data, learn the data, clean the data, love the data 4. visualize the data.\n",
    "\n",
    "### Things to note:\n",
    "I've included mini \"Roadblocks\" where I personally had to stop and scratch my head. The goal of this is not only to introduce you to a very rudimentary example/application of Data Science and the Extraction, Transformation, and Loading (ETL) process, but how to break away from the vices of googling everything (à la documentation)."
   ]
  },
  {
   "cell_type": "code",
   "execution_count": null,
   "id": "da72d648",
   "metadata": {},
   "outputs": [],
   "source": [
    "# Commented out rows showcase how to install modules and packages within jupyter\n",
    "\n",
    "# !{sys.executable} -m pip install 'geocoder'\n",
    "# !{sys.executable} -m pip install 'geonamescache'\n",
    "# !{sys.executable} -m pip install 'matplotlib'"
   ]
  },
  {
   "cell_type": "code",
   "execution_count": null,
   "id": "ca72bdf5",
   "metadata": {},
   "outputs": [],
   "source": [
    "# Applicable documentation used\n",
    "\n",
    "# https://geocoder.readthedocs.io/providers/ArcGIS.html\n",
    "# https://openweathermap.org/api/hourly-forecast\n",
    "# https://pandas.pydata.org/docs/\n",
    "# https://requests.readthedocs.io/en/latest\n",
    "# https://matplotlib.org/stable/api/index"
   ]
  },
  {
   "attachments": {},
   "cell_type": "markdown",
   "id": "18bb0fb5",
   "metadata": {},
   "source": [
    "# Pull current weather from Openweather API for one \"city\""
   ]
  },
  {
   "cell_type": "code",
   "execution_count": null,
   "id": "5a7c87c3",
   "metadata": {},
   "outputs": [],
   "source": [
    "# Importing modules\n",
    "\n",
    "import sys\n",
    "import requests\n",
    "import pandas as pd\n",
    "import numpy as np\n",
    "import json\n",
    "import geocoder\n",
    "import matplotlib.pyplot as plt"
   ]
  },
  {
   "cell_type": "code",
   "execution_count": null,
   "id": "e534d16f",
   "metadata": {},
   "outputs": [],
   "source": [
    "API_KEY = 'xxxxxxxxxxxxxxxxxxxxxxxxxxx'\n",
    "LOCATION = 'Hoboken, NJ'\n",
    "UNITS = 'imperial'\n",
    "# https://pro.openweathermap.org/data/2.5/forecast/hourly?lat={loclat}&lon={loclon}&appid={API_KEY}"
   ]
  },
  {
   "cell_type": "code",
   "execution_count": null,
   "id": "ea848c93",
   "metadata": {},
   "outputs": [],
   "source": [
    "# Using geocoder to get lat/lng for use with openweather API\n",
    "g = geocoder.arcgis(LOCATION)\n",
    "loclat = g.lat\n",
    "loclng = g.lng"
   ]
  },
  {
   "cell_type": "code",
   "execution_count": null,
   "id": "24048e04",
   "metadata": {},
   "outputs": [],
   "source": [
    "# Creating the request url format using f-string formatting\n",
    "request_url = f'https://api.openweathermap.org/data/2.5/weather?lat={loclat}&lon={loclng}&units={UNITS}&appid={API_KEY}'"
   ]
  },
  {
   "cell_type": "code",
   "execution_count": null,
   "id": "c7ff57e8",
   "metadata": {},
   "outputs": [],
   "source": [
    "# Making a request to the url which will return a JSON payload\n",
    "r = requests.get(request_url)"
   ]
  },
  {
   "cell_type": "code",
   "execution_count": null,
   "id": "42296a17",
   "metadata": {},
   "outputs": [],
   "source": [
    "# Response status\n",
    "# See more at https://developer.mozilla.org/en-US/docs/Web/HTTP/Status\n",
    "r"
   ]
  },
  {
   "cell_type": "code",
   "execution_count": null,
   "id": "b66a2660",
   "metadata": {},
   "outputs": [],
   "source": [
    "# Returned JSON payload\n",
    "r.json()"
   ]
  },
  {
   "cell_type": "code",
   "execution_count": null,
   "id": "8098832b",
   "metadata": {},
   "outputs": [],
   "source": [
    "hobokenJson = r.json()\n",
    "hobokenJson.keys()"
   ]
  },
  {
   "cell_type": "code",
   "execution_count": null,
   "id": "8e316ca1",
   "metadata": {},
   "outputs": [],
   "source": [
    "hobokenJson['clouds']"
   ]
  },
  {
   "cell_type": "markdown",
   "id": "0c730473",
   "metadata": {},
   "source": [
    "# Now create a dataframe with multiple cities"
   ]
  },
  {
   "cell_type": "code",
   "execution_count": null,
   "id": "4d1f59ae",
   "metadata": {},
   "outputs": [],
   "source": [
    "# pulled from: https://github.com/agalea91/city_to_state_dictionary/blob/master/city_to_state.py\n",
    "\n",
    "city_to_state_dict = {\"East Rancho Dominguez\": \"California\",\n",
    "                      \"Clinton\": \"Mississippi\",\n",
    "                      \"Nanuet\": \"New York\",\n",
    "                      \"Sand Springs\": \"Oklahoma\",\n",
    "                      \"Middle River\": \"Maryland\",\n",
    "                      \"Carbondale\": \"Illinois\",\n",
    "                      \"Boise\": \"Idaho\",\n",
    "                      \"Las Vegas\": \"Nevada\",\n",
    "                      \"Denver\": \"Colorado\",\n",
    "                      \"Hagerstown\": \"Maryland\",\n",
    "                      \"Venice\": \"Florida\",\n",
    "                      \"Moreno Valley\": \"California\",\n",
    "                      \"Mamaroneck\": \"New York\",\n",
    "                      \"Bartow\": \"Florida\",\n",
    "                      \"Bensonhurst\": \"New York\",\n",
    "                      \"Edgewater\": \"Florida\",\n",
    "                      \"Dallas\": \"Texas\",\n",
    "                      \"Benton\": \"Arkansas\",\n",
    "                      \"Lake Havasu City\": \"Arizona\",\n",
    "                      \"New South Memphis\": \"Tennessee\",\n",
    "                      \"North Glendale\": \"California\",\n",
    "                      \"Santee\": \"California\",\n",
    "                      \"Shawnee\": \"Oklahoma\",\n",
    "                      \"North Augusta\": \"South Carolina\",\n",
    "                      \"Brownwood\": \"Texas\",\n",
    "                      \"Methuen\": \"Massachusetts\",\n",
    "                        }"
   ]
  },
  {
   "cell_type": "markdown",
   "id": "adb1f4ca",
   "metadata": {},
   "source": [
    "#### Cleaning it up and just making it into a list"
   ]
  },
  {
   "cell_type": "code",
   "execution_count": null,
   "id": "4544d082",
   "metadata": {},
   "outputs": [],
   "source": [
    "# Take dict and put into list \n",
    "cityStateList = []\n",
    "\n",
    "for k, v in city_to_state_dict.items():\n",
    "    cityStateList.append(f'{k}, {v}')\n",
    "    "
   ]
  },
  {
   "cell_type": "code",
   "execution_count": null,
   "id": "fb7b65da",
   "metadata": {},
   "outputs": [],
   "source": [
    "cityStateList"
   ]
  },
  {
   "cell_type": "code",
   "execution_count": null,
   "id": "2806b00d",
   "metadata": {},
   "outputs": [],
   "source": [
    "bulkWeatherJson = []\n",
    "\n",
    "def cityTempPull():\n",
    "    \"\"\"Function to parse through cityStateList and query the openweather API\"\"\"\n",
    "    for city in cityStateList:\n",
    "        location = city\n",
    "        gloc = geocoder.arcgis(location)\n",
    "        gLat = gloc.lat\n",
    "        gLng = gloc.lng\n",
    "        req_url = f'https://api.openweathermap.org/data/2.5/weather?lat={gLat}&lon={gLng}&units={UNITS}&appid={API_KEY}'\n",
    "        tempR = requests.get(req_url)\n",
    "        tempCityJson = tempR.json()\n",
    "        bulkWeatherJson.append(tempCityJson)\n",
    "\n",
    "        \n",
    "\n",
    "# First attempt to parse through the dict, using version from above.\n",
    "# def cityTempPull():\n",
    "#     \"\"\"Function to parse through the original city_to_state_dict, don't use\"\"\"\n",
    "#     for k, v in city_to_state_dict.items():\n",
    "#         location = f'{v}, {k}'\n",
    "#         gloc = geocoder.arcgis(location)\n",
    "#         gLat = gloc.lat\n",
    "#         gLng = gloc.lng\n",
    "#         req_url = f'https://api.openweathermap.org/data/2.5/weather?lat={gLat}&lon={gLng}&units={UNITS}&appid={API_KEY}'\n",
    "#         tempR = requests.get(req_url)\n",
    "#         tempCityJson = tempR.json()\n",
    "#         bulkWeatherJson.append(tempCityJson)\n",
    "        \n",
    "#Call function\n",
    "cityTempPull()"
   ]
  },
  {
   "cell_type": "markdown",
   "id": "4e502f65",
   "metadata": {},
   "source": [
    "#### Roadblock\n",
    "The following step I completely forgot how to make a df out of JSON. My first few attempts I literally just bruteforced it into a dataframe and it was a mess of embedded JSON. I knew there had to be a better way so I went to the pandas documentation and search for JSON, which brought me to the io (input/output) docs and I found my way to the pandas.json_normalize page https://pandas.pydata.org/docs/reference/api/pandas.json_normalize.html#pandas.json_normalize\n",
    "\n",
    "Note: https://openweathermap.org/current#parameter\n",
    "\n",
    "Forgot to mention looking at the parameters within the API documentation"
   ]
  },
  {
   "cell_type": "code",
   "execution_count": null,
   "id": "95f34b03",
   "metadata": {},
   "outputs": [],
   "source": [
    "cityWeatherDF = pd.json_normalize(bulkWeatherJson)"
   ]
  },
  {
   "cell_type": "code",
   "execution_count": null,
   "id": "5d6de68c",
   "metadata": {},
   "outputs": [],
   "source": [
    "cityWeatherDF.columns"
   ]
  },
  {
   "cell_type": "code",
   "execution_count": null,
   "id": "4b9cff57",
   "metadata": {},
   "outputs": [],
   "source": [
    "cityWeatherDF.shape"
   ]
  },
  {
   "cell_type": "code",
   "execution_count": null,
   "id": "6cd818ea",
   "metadata": {},
   "outputs": [],
   "source": [
    "cityWeatherDF.dtypes"
   ]
  },
  {
   "cell_type": "code",
   "execution_count": null,
   "id": "8e12d446",
   "metadata": {},
   "outputs": [],
   "source": [
    "cityWeatherDF.head()"
   ]
  },
  {
   "cell_type": "code",
   "execution_count": null,
   "id": "b35a06ff",
   "metadata": {},
   "outputs": [],
   "source": [
    "cityWeatherDF.tail()"
   ]
  },
  {
   "cell_type": "code",
   "execution_count": null,
   "id": "4cc3c211",
   "metadata": {},
   "outputs": [],
   "source": [
    "# Embedded dict in weather column\n",
    "cityWeatherDF['weather'].iloc[0]"
   ]
  },
  {
   "cell_type": "markdown",
   "id": "c1d61038",
   "metadata": {},
   "source": [
    "# What else could be done to improve the useability?\n",
    "Looking at the columns and data, there are a handful of things we could do. First being changing the column names to something that everyone can understand (Look at the parameters in the documentation), dropping columns that provide little to no value, and standardizing the data types of each columns."
   ]
  },
  {
   "cell_type": "markdown",
   "id": "ee140e21",
   "metadata": {},
   "source": [
    "#### Cleaning up the name column"
   ]
  },
  {
   "cell_type": "code",
   "execution_count": null,
   "id": "5e675c49",
   "metadata": {},
   "outputs": [],
   "source": [
    "# Create a series from the cityStateList from earlier\n",
    "temp_series = pd.Series(cityStateList, name = 'city-state')\n",
    "\n",
    "# Add the cityStateList as 'city-state'\n",
    "cityWeatherDF = pd.concat([cityWeatherDF, temp_series], axis=1)\n",
    "\n",
    "# Create a list of columns and restructure them, moving 'city-state' next to 'name'\n",
    "cols = cityWeatherDF.columns.tolist()\n",
    "\n",
    "cols = ['weather',\n",
    " 'base',\n",
    " 'visibility',\n",
    " 'dt',\n",
    " 'timezone',\n",
    " 'id',\n",
    " 'city-state',\n",
    " 'name',\n",
    " 'cod',\n",
    " 'coord.lon',\n",
    " 'coord.lat',\n",
    " 'main.temp',\n",
    " 'main.feels_like',\n",
    " 'main.temp_min',\n",
    " 'main.temp_max',\n",
    " 'main.pressure',\n",
    " 'main.humidity',\n",
    " 'wind.speed',\n",
    " 'wind.deg',\n",
    " 'wind.gust',\n",
    " 'clouds.all',\n",
    " 'sys.type',\n",
    " 'sys.id',\n",
    " 'sys.country',\n",
    " 'sys.sunrise',\n",
    " 'sys.sunset',\n",
    " 'main.sea_level',\n",
    " 'main.grnd_level'\n",
    " ]\n",
    "\n",
    "# Apply the new format to cityWeatherDF\n",
    "cityWeatherDF = cityWeatherDF[cols]\n",
    "\n",
    "# Get rid of the name column\n",
    "cityWeatherDF = cityWeatherDF.drop(columns = ['name'])\n",
    "cityWeatherDF"
   ]
  },
  {
   "cell_type": "markdown",
   "id": "87ffbb98",
   "metadata": {},
   "source": [
    "#### Roadblock\n",
    "Nothing major, but I completely blanked on how to access dictionary items within a list. Maintaining the belief that \"Google bad\" and is counter intuitive to becoming a better programmer, I went to the python docs page (https://docs.python.org/3/contents.html), looked up data structures, and went to dictionaries where I came across my answer."
   ]
  },
  {
   "cell_type": "code",
   "execution_count": null,
   "id": "31f04488",
   "metadata": {},
   "outputs": [],
   "source": [
    "cityWeatherDF['weather'].iloc[0][0]['main']"
   ]
  },
  {
   "cell_type": "markdown",
   "id": "095cf920",
   "metadata": {},
   "source": [
    "#### Preparing the data for visualization\n",
    "Nothing crazy here, just sorting the values for the max temp in descending order to give our visualization a more palatable/consumable format."
   ]
  },
  {
   "cell_type": "code",
   "execution_count": null,
   "id": "e72ad8d6",
   "metadata": {},
   "outputs": [],
   "source": [
    "# Sorting the values of the max temp in descending order\n",
    "cityWeatherDF = cityWeatherDF.sort_values('main.temp_max', ascending=False)"
   ]
  },
  {
   "cell_type": "code",
   "execution_count": null,
   "id": "ce654d01",
   "metadata": {},
   "outputs": [],
   "source": [
    "cityWeatherDF[['city-state', 'main.temp_max']]"
   ]
  },
  {
   "cell_type": "code",
   "execution_count": null,
   "id": "4b27ca24",
   "metadata": {},
   "outputs": [],
   "source": [
    "# Plotting and visualizing the output\n",
    "cityWeatherDF.plot(x='city-state', y='main.temp_max', kind='bar')"
   ]
  }
 ],
 "metadata": {
  "kernelspec": {
   "display_name": "Python 3 (ipykernel)",
   "language": "python",
   "name": "python3"
  },
  "language_info": {
   "codemirror_mode": {
    "name": "ipython",
    "version": 3
   },
   "file_extension": ".py",
   "mimetype": "text/x-python",
   "name": "python",
   "nbconvert_exporter": "python",
   "pygments_lexer": "ipython3",
   "version": "3.11.1"
  }
 },
 "nbformat": 4,
 "nbformat_minor": 5
}
